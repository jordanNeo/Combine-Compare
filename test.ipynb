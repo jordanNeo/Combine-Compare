{
 "cells": [
  {
   "cell_type": "code",
   "execution_count": 11,
   "metadata": {},
   "outputs": [
    {
     "name": "stdout",
     "output_type": "stream",
     "text": [
      "0       2009\n",
      "1       2009\n",
      "2       2009\n",
      "3       2009\n",
      "4       2009\n",
      "        ... \n",
      "3472    2019\n",
      "3473    2019\n",
      "3474    2019\n",
      "3475    2019\n",
      "3476    2019\n",
      "Name: Year, Length: 3477, dtype: int64\n"
     ]
    }
   ],
   "source": [
    "import dash\n",
    "import pandas as pd\n",
    "from dash import dcc, html, Input, Output\n",
    "import seaborn as sns\n",
    "import plotly.express as px\n",
    "\n",
    "df = pd.read_csv('NFL.csv')\n",
    "\n",
    "# Get the categorical columns\n",
    "print(df['Year'])"
   ]
  }
 ],
 "metadata": {
  "kernelspec": {
   "display_name": "base",
   "language": "python",
   "name": "python3"
  },
  "language_info": {
   "codemirror_mode": {
    "name": "ipython",
    "version": 3
   },
   "file_extension": ".py",
   "mimetype": "text/x-python",
   "name": "python",
   "nbconvert_exporter": "python",
   "pygments_lexer": "ipython3",
   "version": "3.9.13"
  }
 },
 "nbformat": 4,
 "nbformat_minor": 2
}
